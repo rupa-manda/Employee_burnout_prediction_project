{
  "cells": [
    {
      "cell_type": "markdown",
      "metadata": {
        "id": "view-in-github",
        "colab_type": "text"
      },
      "source": [
        "<a href=\"https://colab.research.google.com/github/rupa-manda/Employee_burnout_prediction_project/blob/main/Rock_Paper_Scissors.ipynb\" target=\"_parent\"><img src=\"https://colab.research.google.com/assets/colab-badge.svg\" alt=\"Open In Colab\"/></a>"
      ]
    },
    {
      "cell_type": "code",
      "execution_count": 1,
      "metadata": {
        "colab": {
          "base_uri": "https://localhost:8080/"
        },
        "id": "lnCVUvmGFN7g",
        "outputId": "6b139e83-29a1-4d25-99e2-6e672534ee30"
      },
      "outputs": [
        {
          "name": "stdout",
          "output_type": "stream",
          "text": [
            "player1,enter rour choice1234\n",
            "player2,enter your choice567\n",
            "player1,enter your secret bit position0\n",
            "player2,enter your secret bit position1\n",
            "Draw\n",
            "do you want to continue? y/nn\n"
          ]
        }
      ],
      "source": [
        "def rock_paper_scissor(num1,num2,bit1,bit2):\n",
        "  p1=int(num1[bit1])%3\n",
        "  p2=int(num2[bit2])%3\n",
        "  if(player1[p1]==player2[p2]):\n",
        "    print(\"Draw\")\n",
        "  elif(player1[p1]==\"rock\"and player2[p2]=='scissors'):\n",
        "    print(\"player1 win\")\n",
        "  elif(player1[p1]==\"rock\"and player2[p2]==\"paper\"):\n",
        "    print(\"player2 win\")\n",
        "  elif(player1[p1]==\"paper\"and player2[p2]=='scissors'):\n",
        "    print(\"player2 win\")\n",
        "  elif(player1[p1]==\"paper\"and player2[p2]==\"rock\"):\n",
        "    print(\"player1 win\")\n",
        "  elif(player1[p1]==\"scissors\"and player2[p2]==\"rock\"):\n",
        "    print(\"player2 win\")\n",
        "  elif(player1[p1]==\"scissors\"and player2[p2]==\"paper\"):\n",
        "    print(\"player1 win\")\n",
        "player1={0:'rock',1:'paper',2:'scissor'}\n",
        "player2={0:'paper',1:'Scissor',2:'rock'}\n",
        "while(1):\n",
        "   num1=input(\"player1,enter rour choice\")\n",
        "   num2=input(\"player2,enter your choice\")\n",
        "   bit1=int(input(\"player1,enter your secret bit position\"))\n",
        "   bit2=int(input(\"player2,enter your secret bit position\"))\n",
        "   rock_paper_scissor(num1,num2,bit1,bit2)\n",
        "   ch=input(\"do you want to continue? y/n\")\n",
        "   if(ch=='n'):\n",
        "    break"
      ]
    }
  ],
  "metadata": {
    "colab": {
      "provenance": [],
      "authorship_tag": "ABX9TyPz+Ntf5Pl0hCLx9j1iZusj",
      "include_colab_link": true
    },
    "kernelspec": {
      "display_name": "Python 3",
      "name": "python3"
    },
    "language_info": {
      "name": "python"
    }
  },
  "nbformat": 4,
  "nbformat_minor": 0
}